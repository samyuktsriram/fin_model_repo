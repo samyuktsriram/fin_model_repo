{
 "cells": [
  {
   "attachments": {},
   "cell_type": "markdown",
   "metadata": {},
   "source": [
    "5 is arbitrary cutoff\n",
    "\n",
    "P/E / earnings metrics are of the previous year, while the price is current"
   ]
  },
  {
   "cell_type": "code",
   "execution_count": 5,
   "metadata": {},
   "outputs": [],
   "source": [
    "#imports\n",
    "\n",
    "import matplotlib.pyplot as plt\n",
    "import seaborn as sns\n",
    "import statsmodels.api as sm\n",
    "import pandas as pd\n",
    "import numpy as np \n",
    "import math"
   ]
  },
  {
   "cell_type": "code",
   "execution_count": 6,
   "metadata": {},
   "outputs": [],
   "source": [
    "def pull_stocks(year:int, full_df, filter=None):\n",
    "\n",
    "    df = full_df[(full_df['ca_finance1_year'] == year)]\n",
    "    df = df.drop_duplicates('ca_company_name')\n",
    "    df['P/E'] = df['P/E'].astype('float')\n",
    "    df = df[df['P/E'] >= 5]\n",
    "    if filter != None:\n",
    "        df = df.sort_values('MCAP',ascending=False)\n",
    "        df = df.head(filter)\n",
    "    df['ca_pat_net_of_pe_pc_avg_tot_asset_net_menow_reval'] = df['ca_pat_net_of_pe_pc_avg_tot_asset_net_menow_reval'].astype('float')\n",
    "    df = df[df['ca_pat_net_of_pe_pc_avg_tot_asset_net_menow_reval'] >= 25]\n",
    "    df = df.sort_values('P/E',ascending=True)\n",
    "\n",
    "    return df['ca_company_name']\n",
    "\n",
    "def pull_stocks_score(year:int, full_df, filter=None):\n",
    "\n",
    "    df = full_df[(full_df['ca_finance1_year'] == year)]\n",
    "    df = df.drop_duplicates('ca_company_name')\n",
    "    df['P/E'] = df['P/E'].astype('float')\n",
    "    df = df[df['P/E'] >= 5]\n",
    "    if filter != None:\n",
    "        df = df.sort_values('MCAP',ascending=False)\n",
    "        df = df.head(filter)\n",
    "\n",
    "    df['P/E'] = df['P/E'].astype('float')\n",
    "    \n",
    "    df = df.sort_values('P/E',ascending=True)\n",
    "    df['P/E_Rank'] = df['P/E'].rank(method='dense')\n",
    "\n",
    "    df['ca_pat_net_of_pe_pc_avg_tot_asset_net_menow_reval'] = df['ca_pat_net_of_pe_pc_avg_tot_asset_net_menow_reval'].astype('float')\n",
    "\n",
    "    df = df.sort_values('ca_pat_net_of_pe_pc_avg_tot_asset_net_menow_reval',ascending=False)\n",
    "    df['ROA_Rank'] = df['ca_pat_net_of_pe_pc_avg_tot_asset_net_menow_reval'].rank(method='dense')\n",
    "\n",
    "    df['Score'] = df['ROA_Rank'] + df['P/E_Rank']\n",
    "    df = df.sort_values('Score',ascending=True)\n",
    "\n",
    "    return df['ca_company_name']\n",
    "\n",
    "\n",
    "def pull_stocks_evebit(year:int, full_df, filter=None):\n",
    "\n",
    "    df = full_df[(full_df['ca_finance1_year'] == year)]\n",
    "    df = df.drop_duplicates('ca_company_name')\n",
    "    df['EV/EBIT'] = df['EV/EBIT'].astype('float')  # substitute 'EV/EBIT' for 'P/E'\n",
    "    df = df[df['EV/EBIT'] >= 5]                  # substitute 'EV/EBIT' for 'P/E'\n",
    "    if filter != None:\n",
    "        df = df.sort_values('MCAP',ascending=False)\n",
    "        df = df.head(filter)\n",
    "\n",
    "    df['EV/EBIT'] = df['EV/EBIT'].astype('float')   # substitute 'EV/EBIT' for 'P/E'\n",
    "    \n",
    "    df = df.sort_values('EV/EBIT',ascending=True)   # substitute 'EV/EBIT' for 'P/E'\n",
    "    df['EV/EBIT_Rank'] = df['EV/EBIT'].rank(method='dense')   # substitute 'EV/EBIT' for 'P/E' and 'EV/EBIT_Rank' for 'P/E_Rank'\n",
    "    \n",
    "    df['ca_pat_net_of_pe_pc_avg_capital_employed'] = df['ca_pat_net_of_pe_pc_avg_capital_employed'].astype('float')\n",
    "\n",
    "    df = df.sort_values('ca_pat_net_of_pe_pc_avg_capital_employed',ascending=False)\n",
    "    df['ROCE_Rank'] = df['ca_pat_net_of_pe_pc_avg_capital_employed'].rank(method='dense')\n",
    "\n",
    "    df['Score'] = df['ROCE_Rank'] + df['EV/EBIT_Rank']\n",
    "    df = df.sort_values('Score',ascending=True)\n",
    "\n",
    "    return df['ca_company_name']\n",
    "\n",
    "\n",
    "def pull_stocks_evebitda(year:int, full_df, filter=None):\n",
    "\n",
    "    df = full_df[(full_df['ca_finance1_year'] == year)]\n",
    "    df = df.drop_duplicates('ca_company_name')\n",
    "    df['EV/EBITDA'] = df['EV/EBITDA'].astype('float')  # substitute 'EV/EBIT' for 'P/E'\n",
    "    df = df[df['EV/EBITDA'] >= 5]                  # substitute 'EV/EBIT' for 'P/E'\n",
    "    if filter != None:\n",
    "        df = df.sort_values('MCAP',ascending=False)\n",
    "        df = df.head(filter)\n",
    "\n",
    "    df['EV/EBITDA'] = df['EV/EBITDA'].astype('float')   # substitute 'EV/EBIT' for 'P/E'\n",
    "    \n",
    "    df = df.sort_values('EV/EBITDA',ascending=True)   # substitute 'EV/EBIT' for 'P/E'\n",
    "    df['EV/EBITDA_Rank'] = df['EV/EBITDA'].rank(method='dense')   # substitute 'EV/EBIT' for 'P/E' and 'EV/EBIT_Rank' for 'P/E_Rank'\n",
    "    \n",
    "    df['ca_pat_net_of_pe_pc_avg_capital_employed'] = df['ca_pat_net_of_pe_pc_avg_capital_employed'].astype('float')\n",
    "\n",
    "\n",
    "    df = df.sort_values('ca_pat_net_of_pe_pc_avg_capital_employed',ascending=False)\n",
    "    df['ROCE_Rank'] = df['ca_pat_net_of_pe_pc_avg_capital_employed'].rank(method='dense')\n",
    "\n",
    "    df['Score'] = df['ROCE_Rank'] + df['EV/EBITDA_Rank']\n",
    "    df = df.sort_values('Score',ascending=True)\n",
    "\n",
    "    return df['ca_company_name']\n",
    "\n",
    "\n",
    "def pull_stocks_roce(year:int, full_df, filter=None):\n",
    "\n",
    "    #Removing P/Es < 5 makes this return only financial stocks\n",
    "\n",
    "    df = full_df[(full_df['ca_finance1_year'] == year)]\n",
    "    df = df.drop_duplicates('ca_company_name')\n",
    "    df = df[df['P/E'] >= 5]\n",
    "    if filter != None:\n",
    "        df = df.sort_values('MCAP',ascending=False)\n",
    "        df = df.head(filter)\n",
    "\n",
    "    df['P/E'] = df['P/E'].astype('float')\n",
    "    \n",
    "    df = df.sort_values('P/E',ascending=True)\n",
    "    df['P/E_Rank'] = df['P/E'].rank(method='dense')\n",
    "\n",
    "    df['ca_pat_net_of_pe_pc_avg_capital_employed'] = df['ca_pat_net_of_pe_pc_avg_capital_employed'].astype('float')\n",
    "\n",
    "\n",
    "    df = df.sort_values('ca_pat_net_of_pe_pc_avg_capital_employed',ascending=False)\n",
    "    df['ROCE_Rank'] = df['ca_pat_net_of_pe_pc_avg_capital_employed'].rank(method='dense')\n",
    "\n",
    "    df['Score'] = df['ROCE_Rank'] + df['P/E_Rank']\n",
    "    df = df.sort_values('Score',ascending=True)\n",
    "\n",
    "    return df['ca_company_name']\n",
    "\n",
    "\n",
    "def pull_random(year:int, full_df, filter=None):\n",
    "\n",
    "    df = full_df[(full_df['ca_finance1_year'] == year)]\n",
    "    df = df.drop_duplicates('ca_company_name')\n",
    "    #df = df[df['P/E'] >= 5]\n",
    "    if filter != None:\n",
    "        df = df.sort_values('MCAP',ascending=False)\n",
    "        df = df.head(filter)\n",
    "\n",
    "    #df = df.sample(frac=1, random_state=6).reset_index()\n",
    "    df = df.sample(frac=1).reset_index()\n",
    "    return df['ca_company_name']\n",
    "\n",
    "def calc_return(year:int, stock_list, df, interval:int):\n",
    "    assert year < 2022 #we don't have data beyond this\n",
    "\n",
    "    next_year = year+interval\n",
    "\n",
    "    ret_list=[]\n",
    "\n",
    "    for stock in stock_list:\n",
    "        try:\n",
    "            curr = df.loc[str(stock), str(year)]\n",
    "            next_price = df.loc[str(stock), str(next_year)]\n",
    "        except:\n",
    "            print(stock, \"not in the prices database\")\n",
    "            continue\n",
    "        if (math.isnan(curr)  or math.isnan(next_price)):\n",
    "            continue\n",
    "        ret_list.append((next_price-curr)/curr)\n",
    "    \n",
    "    \n",
    "\n",
    "    return ret_list\n",
    "\n",
    "\n",
    "#Not working atm, scrip name differences between the databases\n",
    "def fin_util_stocks(nifty_500:pd.DataFrame):\n",
    "\n",
    "    fin_util = nifty_500[nifty_500.Industry == 'Financial Services']\n",
    "    fin_list = [stock.upper() for stock in list(fin_util['Company Name'])]\n",
    "    return fin_list\n",
    "\n",
    "##Not Used and wrong\n",
    "#def yearly_return_calc(ret_list):\n",
    "\n",
    "    year_end_val = [1+ret for ret in ret_list]\n",
    "    final_val = sum(year_end_val)\n",
    "\n",
    "    ret_percent = (final_val - len(year_end_val)) / len(year_end_val)\n",
    "\n",
    "    return ret_percent"
   ]
  },
  {
   "cell_type": "code",
   "execution_count": 7,
   "metadata": {},
   "outputs": [],
   "source": [
    "def calculate_cagr(returns:list, interval:int):\n",
    "    n = len(returns)\n",
    "    \n",
    "    multiplier = 1\n",
    "    start_value = 100\n",
    "    for i in range(n):\n",
    "        multiplier *= (1+ returns[i])\n",
    "\n",
    "\n",
    "    end_value = start_value * multiplier\n",
    "    \n",
    "    cagr = (end_value / start_value)**(1/n) - 1\n",
    "    return cagr / interval"
   ]
  },
  {
   "cell_type": "code",
   "execution_count": 8,
   "metadata": {},
   "outputs": [],
   "source": [
    "def fin_stocks(df):\n",
    "    financial_services = ['Asset management services (mutual funds)', \n",
    "        'Banking services', \n",
    "        'Diversified financial services', \n",
    "        'Housing finance services', \n",
    "        'Infrastructure finance services', \n",
    "        'Infrastructure investment trusts',\n",
    "        'Other asset financing services',\n",
    "        'Other fund based financial services',\n",
    "        'Other fee based financial services',\n",
    "        'Other financial services',\n",
    "        'Securities broking',\n",
    "        'Crude oil & natural gas',\n",
    "        'Electricity distribution',\n",
    "        'Electricity transmission',\n",
    "        'Renewable electricity',\n",
    "        'Coal & lignite',\n",
    "        'Conventional electricity',\n",
    "        'Infrastructural construction',\n",
    "        'Natural gas trading & distribution',\n",
    "        \n",
    "        ]\n",
    "\n",
    "    fin_comps = []\n",
    "    for i in range(len(df)):\n",
    "        if df.loc[i,'co_industry_name'] in financial_services:\n",
    "            fin_comps.append(df.loc[i,'company_name'])\n",
    "\n",
    "\n",
    "    return list(fin_comps)"
   ]
  },
  {
   "cell_type": "code",
   "execution_count": 9,
   "metadata": {},
   "outputs": [],
   "source": [
    "def open_files():\n",
    "    #output_df_inp = pd.read_excel('/Users/sam/Documents/Coding/ML4Econ/Back_test/output_all_2.xlsx', engine='openpyxl', dtype='str')\n",
    "    output_df_inp = pd.read_csv('all_comps_ev.csv') \n",
    "    price_df_inp = pd.read_csv('yearwisestockprice.csv')\n",
    "\n",
    "    #This could be trouble\n",
    "\n",
    "    price_df_inp.set_index('company_name',inplace=True)\n",
    "    fin_df_inp = fin_stocks(pd.read_csv(r'/Users/sam/Documents/Coding/RefScreening/identity/id_data.txt', sep='|'))\n",
    "    return (output_df_inp, price_df_inp, fin_df_inp)"
   ]
  },
  {
   "cell_type": "code",
   "execution_count": 10,
   "metadata": {},
   "outputs": [],
   "source": [
    "input_tup = open_files()"
   ]
  },
  {
   "cell_type": "code",
   "execution_count": 11,
   "metadata": {},
   "outputs": [],
   "source": [
    "\n",
    "#Evaluations\n",
    "def evaluate_strategy(pull_strategy, start=0, top_x=5, verbose=True, filter=None, input_tup = input_tup, remove_fin=False, interval=1,ret_yearly=False):\n",
    "\n",
    "    \n",
    "\n",
    "    #df = pd.read_excel('/Users/sam/Documents/Coding/ML4Econ/Back_test/output_all_2.xlsx', engine='openpyxl', dtype='str')\n",
    "    df = input_tup[0]\n",
    "    \n",
    "    def convert_to_numeric(col):\n",
    "        return pd.to_numeric(col, errors='coerce')\n",
    "\n",
    "    df['ca_pat_net_of_pe_pc_avg_tot_asset_net_menow_reval'] = df['ca_pat_net_of_pe_pc_avg_tot_asset_net_menow_reval'].apply(convert_to_numeric)\n",
    "\n",
    "\n",
    "#OPEN THE NEXT DF\n",
    "    #price_df = pd.read_excel('/Users/sam/Documents/Coding/ML4Econ/Back_test/stock_prices_yearwise.xlsx', engine='openpyxl')\n",
    "    price_df = input_tup[1]\n",
    "    #price_df.set_index('Stock',inplace=True)\n",
    "\n",
    "    yearly_returns = []\n",
    "    fin_stocks = input_tup[2]\n",
    "\n",
    "    #fin_stocks = [stock.upper() for stock in fin_stocks]\n",
    "\n",
    "    for i in range(2005,2023-interval,1):\n",
    "        l = pull_strategy(i, df, filter=filter)\n",
    "        #print(f'Length of the initial sample: {len(l)}')\n",
    "        if remove_fin:\n",
    "            l = [elem for elem in l if elem not in fin_stocks]\n",
    "        #print(f'Length after filtering for fin_stocks: {len(l)}')\n",
    "        #print(l)\n",
    "        l = l[start:top_x]\n",
    "        if verbose:\n",
    "            print(f'Year: {i}\\nStocks: {list(l)}')\n",
    "            print(f'Return: {np.mean(calc_return(i,l,price_df,interval=interval)) * 100} %')\n",
    "        yearly_returns.append(np.mean(calc_return(i,l,price_df,interval=interval)))\n",
    "        \n",
    "    cagr = calculate_cagr(yearly_returns, interval=interval)\n",
    "\n",
    "    if verbose:\n",
    "        print('---------------------------------------------')\n",
    "        print(f\"17 Year CAGR: {cagr *100}\")\n",
    "    if ret_yearly:\n",
    "        return (cagr *100), yearly_returns\n",
    "    else: return (cagr *100)"
   ]
  },
  {
   "cell_type": "code",
   "execution_count": 135,
   "metadata": {},
   "outputs": [
    {
     "name": "stdout",
     "output_type": "stream",
     "text": [
      "Year: 2005\n",
      "Stocks: ['SAGAR CEMENTS LTD.', 'SHAW WALLACE & CO. LTD. [MERGED]', 'DION GLOBAL SOLUTIONS LTD.', 'WEIZMANN LTD.', 'J S W ISPAT STEEL LTD. [MERGED]', 'STATE TRADING CORPN. OF INDIA LTD.', 'MUKAND LTD.', 'BHUWALKA STEEL INDS. LTD.', 'ANSAL BUILDWELL LTD.', 'AMRUTANJAN HEALTH CARE LTD.', 'ZENITH STEEL PIPES & INDS. LTD.', 'SUPER TANNERY LTD.', 'CAROL INFO SERVICES LTD.', 'VADILAL INDUSTRIES LTD.', 'T I L LTD.', 'SAI SERVICE PVT. LTD.', 'I F B AGRO INDS. LTD.', 'USHA MARTIN LTD.', 'HITKARI INDUSTRIES LTD.', 'RAGHAV INDUSTRIES LTD.']\n",
      "Return: 155.89875015705974 %\n",
      "Year: 2006\n",
      "Stocks: ['STATE TRADING CORPN. OF INDIA LTD.', 'LUDLOW JUTE & SPECIALITIES LTD.', 'ZENITH STEEL PIPES & INDS. LTD.', 'MUKAND LTD.', 'SAI SERVICE PVT. LTD.', 'SUPERHOUSE LTD.', 'VADILAL INDUSTRIES LTD.', 'INDOKEM LTD.', 'LAHOTI OVERSEAS LTD.', 'BAFFIN ENGINEERING PROJECTS LTD.', 'C G-V A K SOFTWARE & EXPORTS LTD.', 'AMBALAL SARABHAI ENTERPRISES LTD.', 'SOMANY CERAMICS LTD.', 'PATANJALI FOODS LTD.', 'SUPER TANNERY LTD.', 'SAKTHI FINANCE LTD.', 'PUNJAB CHEMICALS & CROP PROTECTION LTD.', 'STEEL EXCHANGE INDIA LTD.', 'USHA MARTIN LTD.', 'AJANTA PHARMA LTD.']\n",
      "Return: -9.77483205399082 %\n",
      "Year: 2007\n",
      "Stocks: ['PHOENIX INTERNATIONAL LTD.', 'ACCEL LTD.', 'JAIN STUDIOS LTD.', 'LAHOTI OVERSEAS LTD.', 'INTERFACE FINANCIAL SERVICES LTD.', 'CHOWGULE STEAMSHIPS LTD.', 'LIBERTY PHOSPHATE LTD. [MERGED]', 'SOFTSOL INDIA LTD.', 'IN HOUSE PRODUCTIONS LTD.', 'SHAW WALLACE & CO. LTD. [MERGED]', 'MUKAND LTD.', 'C G-V A K SOFTWARE & EXPORTS LTD.', 'EXCEL CROP CARE LTD. [MERGED]', 'FERMENTA BIOTECH LTD.', 'TULSYAN N E C LTD.', 'WORLDWIDE ALUMINIUM LTD.', 'UTTAM GALVA STEELS LTD.', 'AJANTA PHARMA LTD.', 'S B & T INTERNATIONAL LTD.', 'INDOKEM LTD.']\n",
      "Return: 34.05752713011715 %\n",
      "Year: 2008\n",
      "Stocks: ['CHANDRA PRABHU INTL. LTD.', 'TATA STEEL LTD.', 'SAVEN TECHNOLOGIES LTD.', 'SEASONS TEXTILES LTD.', 'T V S ELECTRONICS LTD.', 'LAKSHMI PRECISION SCREWS LTD.', 'SOMANY CERAMICS LTD.', 'DOLPHIN OFFSHORE ENTERPRISES (INDIA) LTD.', 'C G-V A K SOFTWARE & EXPORTS LTD.', 'ESTER INDUSTRIES LTD.', 'SUPERHOUSE LTD.', 'DAI-ICHI KARKARIA LTD.', 'BHUWALKA STEEL INDS. LTD.', 'TALBROS AUTOMOTIVE COMPONENTS LTD.', 'UTTAM GALVA STEELS LTD.', 'MAHANAGAR TELEPHONE NIGAM LTD.', 'ION EXCHANGE (INDIA) LTD.', 'EXCEL INDUSTRIES LTD.', 'C C S INFOTECH LTD.', 'BHARTIYA INTERNATIONAL LTD.']\n",
      "Return: -31.09066000018046 %\n",
      "Year: 2009\n",
      "Stocks: ['S P L INDUSTRIES LTD. (DELHI)', 'PANACEA BIOTEC LTD.', 'HIKAL LTD.', 'ANANT RAJ LTD.', 'SUASHISH DIAMONDS LTD.', 'NEW DELHI TELEVISION LTD.', 'GOKALDAS EXPORTS LTD.', 'MAITHAN ALLOYS LTD.', 'PEARL GLOBAL INDS. LTD.', 'D C W LTD.', 'CALIFORNIA SOFTWARE CO. LTD.', 'BATLIBOI LTD.', 'RAMCO SYSTEMS LTD.', 'ATLAS CYCLES (HARYANA) LTD.', 'GOLDIAM INTERNATIONAL LTD.', 'HARRISONS MALAYALAM LTD.', 'A M J LAND HOLDINGS LTD.', 'LAKSHMI PRECISION SCREWS LTD.', 'SHREYAS SHIPPING & LOGISTICS LTD.', 'ANSAL PROPERTIES & INFRASTRUCTURE LTD.']\n",
      "Return: 148.32872362585715 %\n",
      "Year: 2010\n",
      "Stocks: ['MELSTAR INFORMATION TECHNOLOGIES LTD.', 'EXCEL INDUSTRIES LTD.', 'NEW DELHI TELEVISION LTD.', 'AFTEK LTD.', 'ASHAPURA MINECHEM LTD.', 'BALASORE ALLOYS LTD.', 'ZENITH STEEL PIPES & INDS. LTD.', 'SHASUN PHARMACEUTICALS LTD. [MERGED]', 'H O V SERVICES LTD.', 'K G DENIM LTD.', 'ONTRACK SYSTEMS LTD.', 'SICAGEN INDIA LTD.', 'SKY INDUSTRIES LTD.', 'MOLD-TEK TECHNOLOGIES LTD.', 'STONE INDIA LTD.', 'E P L LTD.', 'COSMO FIRST LTD.', 'CHOLAMANDALAM INVESTMENT & FINANCE CO. LTD.', 'S B & T INTERNATIONAL LTD.', 'TULSYAN N E C LTD.']\n",
      "Return: 8.951129745515265 %\n",
      "Year: 2011\n",
      "Stocks: ['PRITHVI INFORMATION SOLUTIONS LTD.', 'S S P D L LTD.', 'EXPLEO SOLUTIONS LTD.', 'MUKAND LTD.', 'KAUSHALYA INFRASTRUCTURE DEVP. CORPN. LTD.', 'CAMLIN FINE SCIENCES LTD.', 'KILITCH DRUGS (INDIA) LTD.', 'SHETRON LTD.', 'BHUWALKA STEEL INDS. LTD.', 'SANRAA MEDIA LTD.', 'E D & TECH INTL. LTD.', 'K G DENIM LTD.', 'JAGATJIT INDUSTRIES LTD.', 'PRICOL LTD. [MERGED]', 'BRANDHOUSE RETAILS LTD.', 'CREW B O S PRODUCTS LTD.', 'INDO COUNT INDS. LTD.', 'TULSYAN N E C LTD.', 'CHOWGULE STEAMSHIPS LTD.', 'LAKSHMI PRECISION SCREWS LTD.']\n",
      "Return: -30.942604404442147 %\n",
      "Year: 2012\n",
      "Stocks: ['SWELECT ENERGY SYSTEMS LTD.', 'B P L LTD.', 'JAGATJIT INDUSTRIES LTD.', 'THIRUMALAI CHEMICALS LTD.', 'F C S SOFTWARE SOLUTIONS LTD.', 'BHAGYANAGAR INDIA LTD.', 'CREW B O S PRODUCTS LTD.', 'LYKA LABS LTD.', 'ALLIED DIGITAL SERVICES LTD.', 'KIRLOSKAR ELECTRIC CO. LTD.', 'U B ENGINEERING LTD.', 'INDIA GLYCOLS LTD.', 'BIRLA COTSYN (INDIA) LTD.', 'DHUNSERI VENTURES LTD.', 'A M D INDUSTRIES LTD.', 'VASCON ENGINEERS LTD.', 'STONE INDIA LTD.', 'BANG OVERSEAS LTD.', 'BIRLA POWER SOLUTIONS LTD.', 'PUNJ LLOYD LTD.']\n",
      "Return: -23.878840588060452 %\n",
      "Year: 2013\n",
      "Stocks: ['T V S ELECTRONICS LTD.', 'BATLIBOI LTD.', 'SUPER SPINNING MILLS LTD.', 'SALORA INTERNATIONAL LTD.', 'ZYLOG SYSTEMS LTD.', 'HUBTOWN LTD.', 'TEXMO PIPES & PRODUCTS LTD.', 'RICO AUTO INDS. LTD.', 'U B ENGINEERING LTD.', 'EMCO LTD.', 'S KUMARS NATIONWIDE LTD.', 'RISHI LASER LTD.', 'MCNALLY BHARAT ENGG. CO. LTD.', 'WELSPUN ENTERPRISES LTD.', 'INSPIRISYS SOLUTIONS LTD.', 'ACROPETAL TECHNOLOGIES LTD.', 'LYKA LABS LTD.', 'SOFTSOL INDIA LTD.', 'EMAMI REALTY LTD.', 'ANSAL PROPERTIES & INFRASTRUCTURE LTD.']\n",
      "Return: -2.3963752321734986 %\n",
      "Year: 2014\n",
      "Stocks: ['JUBILANT INDUSTRIES LTD.', 'INVESTMENT TRUST OF INDIA LTD.', 'SUPER SPINNING MILLS LTD.', 'SOUTHERN PETROCHEMICAL INDS. CORPN. LTD.', 'AHLUWALIA CONTRACTS (INDIA) LTD.', 'INDO RAMA SYNTHETICS (INDIA) LTD.', 'AISHWARYA TECHNOLOGIES & TELECOM LTD.', 'GOKALDAS EXPORTS LTD.', 'TEXMO PIPES & PRODUCTS LTD.', 'I M P POWERS LTD.', 'SHETRON LTD.', 'VIPUL LTD.', 'ZUARI INDUSTRIES LTD.', 'LAKSHMI ENERGY & FOODS LTD.', 'EMCO LTD.', 'RICO AUTO INDS. LTD.', 'SANKHYA INFOTECH LTD.', 'MILKFOOD LTD.', 'SAVERA INDUSTRIES LTD.', 'ALLIED DIGITAL SERVICES LTD.']\n",
      "Return: 131.4058167829539 %\n",
      "Year: 2015\n",
      "Stocks: ['THIRUMALAI CHEMICALS LTD.', 'BAFNA PHARMACEUTICALS LTD.', 'SADHANA NITRO CHEM LTD.', 'HUBTOWN LTD.', 'SHREE RAM URBAN INFRASTRUCTURE LTD.', 'STEELCO GUJARAT LTD.', 'JETKING INFOTRAIN LTD.', 'NEHA INTERNATIONAL LTD.', 'BLACK BOX LTD.', 'SHETRON LTD.', 'K G DENIM LTD.', 'SICAGEN INDIA LTD.', 'PRIME URBAN DEVP. INDIA LTD.', 'STRIDES PHARMA SCIENCE LTD.', 'D Q ENTERTAINMENT (INTERNATIONAL) LTD.', 'ADOR WELDING LTD.', 'PATANJALI FOODS LTD.', 'K E C INTERNATIONAL LTD.', 'MEGASOFT LTD.', 'VERITAS (INDIA) LTD.']\n",
      "Return: 50.6836343600812 %\n",
      "Year: 2016\n",
      "Stocks: ['A S M TECHNOLOGIES LTD.', 'CALIFORNIA SOFTWARE CO. LTD.', 'A J R INFRA & TOLLING LTD.', 'PRITISH NANDY COMMUNICATIONS LTD.', 'PIONEER EMBROIDERIES LTD.', 'M E P INFRASTRUCTURE DEVELOPERS LTD.', 'SHREE RAM URBAN INFRASTRUCTURE LTD.', 'HUBTOWN LTD.', 'SOUTHERN PETROCHEMICAL INDS. CORPN. LTD.', 'R T S POWER CORPN. LTD.', 'BANG OVERSEAS LTD.', 'ANSAL HOUSING LTD.', 'UNIVERSAL ARTS LTD.', 'LAKSHMI PRECISION SCREWS LTD.', 'MUKAND LTD.', 'I M P POWERS LTD.', 'SHETRON LTD.', 'B G R ENERGY SYSTEMS LTD.', 'RAMKY INFRASTRUCTURE LTD.', 'ANSAL PROPERTIES & INFRASTRUCTURE LTD.']\n",
      "Return: 31.511438843345 %\n",
      "Year: 2017\n",
      "Stocks: ['T I L LTD.', 'EURO CERAMICS LTD.', 'M E P INFRASTRUCTURE DEVELOPERS LTD.', 'THIRU AROORAN SUGARS LTD.', 'INDIAN CARD CLOTHING CO. LTD.', 'STERLING GREEN WOODS LTD.', 'HUBTOWN LTD.', 'SAKTHI SUGARS LTD.', 'ARIHANT FOUNDATIONS & HOUSING LTD.', 'RAMKY INFRASTRUCTURE LTD.', 'ANSAL PROPERTIES & INFRASTRUCTURE LTD.', 'ADOR MULTIPRODUCTS LTD.', 'EVEREST KANTO CYLINDER LTD.', 'ANSAL HOUSING LTD.', 'BEMCO HYDRAULICS LTD.', 'PARAMOUNT COMMUNICATIONS LTD.', 'SHREYAS SHIPPING & LOGISTICS LTD.', 'P V P VENTURES LTD.', 'GARNET CONSTRUCTION LTD.', 'ELECON ENGINEERING CO. LTD.']\n",
      "Return: 34.38456988625985 %\n",
      "Year: 2018\n",
      "Stocks: ['D L F LTD.', 'MAWANA SUGARS LTD.', 'INSPIRISYS SOLUTIONS LTD.', 'GOKUL REFOILS & SOLVENT LTD.', 'XPRO INDIA LTD.', 'NITCO LTD.', 'RAJSHREE SUGARS & CHEMICALS LTD.', 'FACOR ALLOYS LTD.', 'K S K ENERGY VENTURES LTD.', 'RAMKY INFRASTRUCTURE LTD.', 'SUNIL HITECH ENGINEERS LTD.', 'PACIFIC INDUSTRIES LTD.', 'RELIANCE INFRASTRUCTURE LTD.', 'MIDEAST INTEGRATED STEELS LTD.', 'B G R ENERGY SYSTEMS LTD.', 'BLACK BOX LTD.', 'FLEXITUFF VENTURES INTL. LTD.', 'PHOENIX INTERNATIONAL LTD.', 'ANSAL HOUSING LTD.', 'D Q ENTERTAINMENT (INTERNATIONAL) LTD.']\n",
      "Return: -36.83568029743787 %\n",
      "Year: 2019\n",
      "Stocks: ['MCLEOD RUSSEL INDIA LTD.', 'HUBTOWN LTD.', 'YUKEN INDIA LTD.', 'TATA STEEL B S L LTD. [MERGED]', 'ANSAL HOUSING LTD.', 'BALASORE ALLOYS LTD.', 'INDIAN ACRYLICS LTD.', 'B G R ENERGY SYSTEMS LTD.', 'ANSAL BUILDWELL LTD.', 'COMFORT INTECH LTD.', 'GOKUL REFOILS & SOLVENT LTD.', 'ELECON ENGINEERING CO. LTD.', 'M E P INFRASTRUCTURE DEVELOPERS LTD.', 'ORIENTAL HOTELS LTD.', 'RELIANCE INFRASTRUCTURE LTD.', 'RAMKY INFRASTRUCTURE LTD.', 'GATEWAY DISTRIPARKS LTD. [MERGED]', 'REFNOL RESINS & CHEMICALS LTD.', 'TRANSFORMERS & RECTIFIERS (INDIA) LTD.', 'MOHIT INDUSTRIES LTD.']\n",
      "Return: -59.924541975063704 %\n",
      "Year: 2020\n",
      "Stocks: ['3I INFOTECH LTD.', 'OM INFRA LTD.', 'MAJESTIC AUTO LTD.', 'ANSAL BUILDWELL LTD.', 'EVEREST KANTO CYLINDER LTD.', 'M E P INFRASTRUCTURE DEVELOPERS LTD.', 'P C JEWELLER LTD.', 'TRANSFORMERS & RECTIFIERS (INDIA) LTD.', 'GREAT EASTERN SHIPPING CO. LTD.', 'JINDAL STAINLESS LTD.', 'B G R ENERGY SYSTEMS LTD.', 'GLOBAL OFFSHORE SERVICES LTD.', 'MADHAV MARBLES & GRANITES LTD.', 'MYSORE PETRO CHEMICALS LTD.', 'PROZONE INTU PROPERTIES LTD.', 'BODHTREE CONSULTING LTD.', 'UNIVERSAL CABLES LTD.', 'ATLAS CYCLES (HARYANA) LTD.', 'NILA SPACES LTD.', 'HUBTOWN LTD.']\n",
      "Return: 153.18264317036983 %\n",
      "Year: 2021\n",
      "Stocks: ['AMBALAL SARABHAI ENTERPRISES LTD.', 'C G POWER & INDL. SOLUTIONS LTD.', 'TERAI TEA CO. LTD.', 'WOCKHARDT LTD.', 'ASHOK ALCO-CHEM LTD.', 'COMPUCOM SOFTWARE LTD.', 'BATLIBOI LTD.', 'MYSORE PETRO CHEMICALS LTD.', 'RAUNAQ E P C INTERNATIONAL LTD.', 'ELECON ENGINEERING CO. LTD.', 'SIMPLEX CASTINGS LTD.', 'INVESTMENT TRUST OF INDIA LTD.', 'KRYPTON INDUSTRIES LTD.', 'J S W ISPAT SPECIAL PRODUCTS LTD.', 'PENINSULA LAND LTD.', 'M E P INFRASTRUCTURE DEVELOPERS LTD.', 'EMAMI REALTY LTD.', 'SUZLON ENERGY LTD.', 'PODDAR HOUSING & DEVP. LTD.', 'ANIK INDUSTRIES LTD.']\n",
      "Return: 75.43548633020039 %\n",
      "---------------------------------------------\n",
      "17 Year CAGR: 19.4483134242458\n"
     ]
    }
   ],
   "source": [
    "_ = evaluate_strategy(pull_strategy=pull_stocks_evebit,start=0,top_x=20,verbose=True, filter=1500,input_tup=input_tup,remove_fin=True,interval=1)"
   ]
  },
  {
   "cell_type": "code",
   "execution_count": 13,
   "metadata": {},
   "outputs": [],
   "source": [
    "test_df = input_tup[0]"
   ]
  },
  {
   "cell_type": "code",
   "execution_count": 14,
   "metadata": {},
   "outputs": [
    {
     "data": {
      "text/plain": [
       "False"
      ]
     },
     "execution_count": 14,
     "metadata": {},
     "output_type": "execute_result"
    }
   ],
   "source": [
    "'ER' in set(test_df['ca_pat_net_of_pe_pc_avg_tot_asset_net_menow_reval'])"
   ]
  },
  {
   "cell_type": "code",
   "execution_count": 15,
   "metadata": {},
   "outputs": [
    {
     "name": "stdout",
     "output_type": "stream",
     "text": [
      "13.887507770940278\n",
      "18.394561973718094\n",
      "22.930352088925332\n",
      "16.385899928110504\n",
      "20.773202038633197\n",
      "17.60711491512548\n",
      "14.157265322657263\n",
      "19.39398388948572\n",
      "19.882805232042667\n",
      "11.542205773428327\n",
      "8.695475316842693\n",
      "9.785920607519326\n",
      "6.7954100215701585\n",
      "6.311748473625345\n",
      "5.786637970780029\n"
     ]
    }
   ],
   "source": [
    "k=20\n",
    "for i in range(0,300,k):\n",
    "    print(evaluate_strategy(pull_strategy=pull_stocks_evebit,start=i,top_x=i+k,verbose=False, filter=750,input_tup=input_tup, remove_fin=True,interval=1))\n"
   ]
  },
  {
   "cell_type": "code",
   "execution_count": 16,
   "metadata": {},
   "outputs": [],
   "source": [
    "sns.set_palette('coolwarm')\n",
    "sns.set_style(\"whitegrid\", {'font.family':'serif', 'font.serif':'Times New Roman', 'font.size':12, 'lines.linewidth':2})"
   ]
  },
  {
   "cell_type": "code",
   "execution_count": 98,
   "metadata": {},
   "outputs": [],
   "source": [
    "y = []\n",
    "x = []\n",
    "k = 20\n",
    "ps = pull_stocks_evebit\n",
    "for i in range(0,380,k):\n",
    "#for i in range(0,380,k):\n",
    "    #print(f'Index: {i, i+k}')\n",
    "    y.append(evaluate_strategy(pull_strategy=ps,start=i,top_x=i+k,verbose=False, filter=1500,remove_fin=True,interval=1))\n",
    "    #print('================================================')\n",
    "    x.append(i)"
   ]
  },
  {
   "cell_type": "code",
   "execution_count": 99,
   "metadata": {},
   "outputs": [
    {
     "data": {
      "text/plain": [
       "[19.4483134242458,\n",
       " 14.251246971110376,\n",
       " 25.088251253325833,\n",
       " 21.73627209027371,\n",
       " 20.850219008220282,\n",
       " 23.36244070951814,\n",
       " 17.941849071736105,\n",
       " 19.97729414198306,\n",
       " 16.91019626659451,\n",
       " 21.18043865643482,\n",
       " 12.013344407413328,\n",
       " 12.685611729472024,\n",
       " 12.966969752603074,\n",
       " 14.9898215291125,\n",
       " 12.748391693281679,\n",
       " 5.586993334377777,\n",
       " 10.35983288050042,\n",
       " 13.973498536929618,\n",
       " 3.6591409240564587]"
      ]
     },
     "execution_count": 99,
     "metadata": {},
     "output_type": "execute_result"
    }
   ],
   "source": [
    "y"
   ]
  },
  {
   "cell_type": "code",
   "execution_count": 131,
   "metadata": {},
   "outputs": [
    {
     "data": {
      "text/plain": [
       "<matplotlib.legend.Legend at 0x7fef993dc370>"
      ]
     },
     "execution_count": 131,
     "metadata": {},
     "output_type": "execute_result"
    },
    {
     "data": {
      "image/png": "[encoded data removed]",
      "text/plain": [
       "<Figure size 640x480 with 1 Axes>"
      ]
     },
     "metadata": {},
     "output_type": "display_data"
    }
   ],
   "source": [
    "coefficients = np.polyfit(x, y, 1)\n",
    "p = np.poly1d(coefficients)\n",
    "#p2 = np.poly1d(np.polyfit(x, y, 3))\n",
    "sns.scatterplot(x=x, y=y)\n",
    "plt.ylabel('17 year CAGR %')\n",
    "plt.xlabel(f'{k} - Stock Portfolio Rank on Final List')\n",
    "plt.title('Returns vs Rank (ROCE + EV/EBIT)')\n",
    "plt.plot(x, p(x), color='y', label ='Degree 1 Best Fit')\n",
    "#plt.plot(x, p2(x), color='c', label = 'degree 3 best fit')\n",
    "#plt.axhline(y=13, linestyle='--', color='r', label = 'Nifty50')\n",
    "\n",
    "plt.legend()"
   ]
  },
  {
   "cell_type": "code",
   "execution_count": 101,
   "metadata": {},
   "outputs": [
    {
     "name": "stderr",
     "output_type": "stream",
     "text": [
      "/opt/anaconda3/lib/python3.9/site-packages/scipy/stats/_stats_py.py:1769: UserWarning: kurtosistest only valid for n>=20 ... continuing anyway, n=19\n",
      "  warnings.warn(\"kurtosistest only valid for n>=20 ... continuing \"\n"
     ]
    },
    {
     "data": {
      "text/html": [
       "<table class=\"simpletable\">\n",
       "<caption>OLS Regression Results</caption>\n",
       "<tr>\n",
       "  <th>Dep. Variable:</th>            <td>y</td>        <th>  R-squared:         </th> <td>   0.601</td>\n",
       "</tr>\n",
       "<tr>\n",
       "  <th>Model:</th>                   <td>OLS</td>       <th>  Adj. R-squared:    </th> <td>   0.577</td>\n",
       "</tr>\n",
       "<tr>\n",
       "  <th>Method:</th>             <td>Least Squares</td>  <th>  F-statistic:       </th> <td>   13.54</td>\n",
       "</tr>\n",
       "<tr>\n",
       "  <th>Date:</th>             <td>Wed, 05 Apr 2023</td> <th>  Prob (F-statistic):</th>  <td>0.00186</td>\n",
       "</tr>\n",
       "<tr>\n",
       "  <th>Time:</th>                 <td>13:50:17</td>     <th>  Log-Likelihood:    </th> <td> -51.023</td>\n",
       "</tr>\n",
       "<tr>\n",
       "  <th>No. Observations:</th>      <td>    19</td>      <th>  AIC:               </th> <td>   106.0</td>\n",
       "</tr>\n",
       "<tr>\n",
       "  <th>Df Residuals:</th>          <td>    17</td>      <th>  BIC:               </th> <td>   107.9</td>\n",
       "</tr>\n",
       "<tr>\n",
       "  <th>Df Model:</th>              <td>     1</td>      <th>                     </th>     <td> </td>   \n",
       "</tr>\n",
       "<tr>\n",
       "  <th>Covariance Type:</th>         <td>HC3</td>       <th>                     </th>     <td> </td>   \n",
       "</tr>\n",
       "</table>\n",
       "<table class=\"simpletable\">\n",
       "<tr>\n",
       "    <td></td>       <th>coef</th>     <th>std err</th>      <th>z</th>      <th>P>|z|</th>  <th>[0.025</th>    <th>0.975]</th>  \n",
       "</tr>\n",
       "<tr>\n",
       "  <th>const</th> <td>   22.9235</td> <td>    2.265</td> <td>   10.120</td> <td> 0.000</td> <td>   18.484</td> <td>   27.363</td>\n",
       "</tr>\n",
       "<tr>\n",
       "  <th>x1</th>    <td>   -0.0397</td> <td>    0.011</td> <td>   -3.680</td> <td> 0.000</td> <td>   -0.061</td> <td>   -0.019</td>\n",
       "</tr>\n",
       "</table>\n",
       "<table class=\"simpletable\">\n",
       "<tr>\n",
       "  <th>Omnibus:</th>       <td> 1.128</td> <th>  Durbin-Watson:     </th> <td>   2.079</td>\n",
       "</tr>\n",
       "<tr>\n",
       "  <th>Prob(Omnibus):</th> <td> 0.569</td> <th>  Jarque-Bera (JB):  </th> <td>   0.968</td>\n",
       "</tr>\n",
       "<tr>\n",
       "  <th>Skew:</th>          <td>-0.490</td> <th>  Prob(JB):          </th> <td>   0.616</td>\n",
       "</tr>\n",
       "<tr>\n",
       "  <th>Kurtosis:</th>      <td> 2.489</td> <th>  Cond. No.          </th> <td>    405.</td>\n",
       "</tr>\n",
       "</table><br/><br/>Notes:<br/>[1] Standard Errors are heteroscedasticity robust (HC3)"
      ],
      "text/plain": [
       "<class 'statsmodels.iolib.summary.Summary'>\n",
       "\"\"\"\n",
       "                            OLS Regression Results                            \n",
       "==============================================================================\n",
       "Dep. Variable:                      y   R-squared:                       0.601\n",
       "Model:                            OLS   Adj. R-squared:                  0.577\n",
       "Method:                 Least Squares   F-statistic:                     13.54\n",
       "Date:                Wed, 05 Apr 2023   Prob (F-statistic):            0.00186\n",
       "Time:                        13:50:17   Log-Likelihood:                -51.023\n",
       "No. Observations:                  19   AIC:                             106.0\n",
       "Df Residuals:                      17   BIC:                             107.9\n",
       "Df Model:                           1                                         \n",
       "Covariance Type:                  HC3                                         \n",
       "==============================================================================\n",
       "                 coef    std err          z      P>|z|      [0.025      0.975]\n",
       "------------------------------------------------------------------------------\n",
       "const         22.9235      2.265     10.120      0.000      18.484      27.363\n",
       "x1            -0.0397      0.011     -3.680      0.000      -0.061      -0.019\n",
       "==============================================================================\n",
       "Omnibus:                        1.128   Durbin-Watson:                   2.079\n",
       "Prob(Omnibus):                  0.569   Jarque-Bera (JB):                0.968\n",
       "Skew:                          -0.490   Prob(JB):                        0.616\n",
       "Kurtosis:                       2.489   Cond. No.                         405.\n",
       "==============================================================================\n",
       "\n",
       "Notes:\n",
       "[1] Standard Errors are heteroscedasticity robust (HC3)\n",
       "\"\"\""
      ]
     },
     "execution_count": 101,
     "metadata": {},
     "output_type": "execute_result"
    }
   ],
   "source": [
    "Y = y\n",
    "X = np.array(x)\n",
    "#X = np.column_stack((x))\n",
    "X = sm.add_constant(X)\n",
    "mod = sm.OLS(Y,X, missing='drop')\n",
    "res = mod.fit(cov_type='HC3')\n",
    "res.summary()"
   ]
  },
  {
   "cell_type": "code",
   "execution_count": 69,
   "metadata": {},
   "outputs": [
    {
     "data": {
      "text/plain": [
       "(15.920072013439645, 6.310996079762921)"
      ]
     },
     "execution_count": 69,
     "metadata": {},
     "output_type": "execute_result"
    }
   ],
   "source": [
    "np.mean(Y), np.std(Y)"
   ]
  },
  {
   "cell_type": "code",
   "execution_count": 22,
   "metadata": {},
   "outputs": [
    {
     "data": {
      "text/plain": [
       "0.13415314525329158"
      ]
     },
     "execution_count": 22,
     "metadata": {},
     "output_type": "execute_result"
    }
   ],
   "source": [
    "(17000 / 2000)**(1/17) - 1"
   ]
  },
  {
   "cell_type": "code",
   "execution_count": 23,
   "metadata": {},
   "outputs": [
    {
     "data": {
      "text/plain": [
       "[16.892810013054937,\n",
       " 25.955492581475603,\n",
       " 24.434570047516324,\n",
       " 18.78713154813807,\n",
       " 10.231856761130164,\n",
       " 11.589176642734156,\n",
       " 8.973756482608476,\n",
       " 3.455109632680675,\n",
       " 19.10859648922294,\n",
       " 12.299827743753756,\n",
       " 8.302684188669197,\n",
       " 16.65348543975409,\n",
       " 3.788835867163809,\n",
       " 4.298103556798094,\n",
       " 5.194849961238646,\n",
       " 8.859651989918538,\n",
       " 4.39693552133702]"
      ]
     },
     "execution_count": 23,
     "metadata": {},
     "output_type": "execute_result"
    }
   ],
   "source": [
    "Y"
   ]
  },
  {
   "cell_type": "code",
   "execution_count": 24,
   "metadata": {},
   "outputs": [],
   "source": [
    "#this is 2005 to 2001 - https://stableinvestor.com/2018/01/nifty-annual-yearly-returns-historical.html\n",
    "nifty_yearly = [36.3, 39.8, 54.8, -51.8, 75.8, 17.9, -24.6, 27.7, 6.8, 31.4, -4.1, 3, 28.6, 3.2, 12, 14.9, 24.1]\n",
    "nifty_yearly = np.array(nifty_yearly)\n",
    "nifty_yearly = nifty_yearly/100"
   ]
  },
  {
   "cell_type": "code",
   "execution_count": 25,
   "metadata": {},
   "outputs": [],
   "source": [
    "gdp_growth = [7.9234,\n",
    "8.0607,\n",
    "7.6608,\n",
    "3.0867,\n",
    "7.8619,\n",
    "8.4976,\n",
    "5.2413,\n",
    "5.4564,\n",
    "6.3861,\n",
    "7.4102,\n",
    "7.9963,\n",
    "8.2563,\n",
    "6.7954,\n",
    "6.4539,\n",
    "3.7379,\n",
    "-6.5961,\n",
    "8.6812]\n",
    "\n",
    "change_gdp = [0,\n",
    "0.14,\n",
    "-0.4,\n",
    "-4.57,\n",
    "4.78,\n",
    "0.64,\n",
    "-3.26,\n",
    "0.22,\n",
    "0.93,\n",
    "1.02,\n",
    "0.59,\n",
    "0.26,\n",
    "-1.46,\n",
    "-0.34,\n",
    "-2.72,\n",
    "-10.33,\n",
    "15.28]\n",
    "\n",
    "gdp_growth = np.array(gdp_growth)\n",
    "change_gdp = np.array(change_gdp)"
   ]
  },
  {
   "cell_type": "code",
   "execution_count": 26,
   "metadata": {},
   "outputs": [],
   "source": [
    "years = range(2005,2022,1)"
   ]
  },
  {
   "cell_type": "code",
   "execution_count": 27,
   "metadata": {},
   "outputs": [
    {
     "data": {
      "text/plain": [
       "0.13285582098796"
      ]
     },
     "execution_count": 27,
     "metadata": {},
     "output_type": "execute_result"
    }
   ],
   "source": [
    "calculate_cagr(nifty_yearly, 1)"
   ]
  },
  {
   "cell_type": "code",
   "execution_count": 105,
   "metadata": {},
   "outputs": [],
   "source": [
    "res = evaluate_strategy(pull_strategy=pull_stocks_evebit,start=0,top_x=20,verbose=False, filter=1500,input_tup=input_tup,remove_fin=True,interval=1, ret_yearly=True)"
   ]
  },
  {
   "cell_type": "code",
   "execution_count": 136,
   "metadata": {},
   "outputs": [
    {
     "data": {
      "image/png": "[encoded data removed]",
      "text/plain": [
       "<Figure size 640x480 with 1 Axes>"
      ]
     },
     "metadata": {},
     "output_type": "display_data"
    }
   ],
   "source": [
    "plt.plot(years, nifty_yearly*100, color='y', label ='Nifty 50')\n",
    "plt.plot(years, np.array(res[1])*100, color='c', label = 'Magic Formula')\n",
    "plt.plot(years, change_gdp, color='b', label = 'Change in GDP Growth Rate')\n",
    "plt.title('Returns in Each Year (2005 - 2021)')\n",
    "plt.ylabel('Yearly return %')\n",
    "\n",
    "legend = plt.legend(loc=\"upper left\", bbox_to_anchor=(1.05, 1))\n",
    "\n",
    "# Create offset from lower right corner of legend box\n",
    "#offset = matplotlib.text.OffsetFrom(legend, (1.0, 0.0))\n",
    "# Create annotation with text below the offset point\n",
    "#plt.annotate(\"We can see the Magic Formula seems to generate the most upside in 2005, 2009, 2014 and 2020.\", xy=(0, 0), xycoords='figure fraction',\n",
    "#            xytext=(0, -20), textcoords=offset,\n",
    "#            horizontalalignment='right', verticalalignment='top')\n",
    "plt.show()\n",
    "#plt.legend()"
   ]
  },
  {
   "cell_type": "code",
   "execution_count": 120,
   "metadata": {},
   "outputs": [
    {
     "data": {
      "text/plain": [
       "(0.2840113916522281, 0.6986691354277871)"
      ]
     },
     "execution_count": 120,
     "metadata": {},
     "output_type": "execute_result"
    }
   ],
   "source": [
    "np.std(nifty_yearly), np.std(res[1])"
   ]
  },
  {
   "cell_type": "code",
   "execution_count": 60,
   "metadata": {},
   "outputs": [
    {
     "data": {
      "text/plain": [
       "(0.13285582098796, 0.194483134242458)"
      ]
     },
     "execution_count": 60,
     "metadata": {},
     "output_type": "execute_result"
    }
   ],
   "source": [
    "calculate_cagr(nifty_yearly,1), calculate_cagr(res[1],1)"
   ]
  },
  {
   "cell_type": "code",
   "execution_count": 61,
   "metadata": {},
   "outputs": [
    {
     "data": {
      "text/plain": [
       "1.3597644313900261"
      ]
     },
     "execution_count": 61,
     "metadata": {},
     "output_type": "execute_result"
    }
   ],
   "source": [
    "#Beta calc\n",
    "np.cov(nifty_yearly,res[1])[0][1] / np.std(nifty_yearly) **2"
   ]
  },
  {
   "cell_type": "code",
   "execution_count": 33,
   "metadata": {},
   "outputs": [
    {
     "data": {
      "text/plain": [
       "[0.6514598563715996,\n",
       " 0.053041907289323544,\n",
       " 0.27234613615142583,\n",
       " -0.44064485780158597,\n",
       " 6.424609620462306,\n",
       " -0.1557493905336046,\n",
       " 0.0010075495601133966,\n",
       " -0.047880644830581486,\n",
       " 0.18477939139530133,\n",
       " 1.233147740753136,\n",
       " -0.15995450634858102,\n",
       " 0.23606130384329554,\n",
       " 0.21430096140577606,\n",
       " -0.33774795427785287,\n",
       " -0.38467100186390435,\n",
       " 0.7664052353729661,\n",
       " 0.29006585025406784]"
      ]
     },
     "execution_count": 33,
     "metadata": {},
     "output_type": "execute_result"
    }
   ],
   "source": [
    "res[1]"
   ]
  },
  {
   "cell_type": "code",
   "execution_count": 34,
   "metadata": {},
   "outputs": [
    {
     "data": {
      "text/plain": [
       "(0.07294876266879169, 0.20225423359000416)"
      ]
     },
     "execution_count": 34,
     "metadata": {},
     "output_type": "execute_result"
    }
   ],
   "source": [
    "#excluding the crazy 642% year - only returns of 7%\n",
    "calculate_cagr([0.6514598563715996,\n",
    " 0.053041907289323544,\n",
    " 0.27234613615142583,\n",
    " -0.44064485780158597,\n",
    " -0.1557493905336046,\n",
    " 0.0010075495601133966,\n",
    " -0.047880644830581486,\n",
    " 0.18477939139530133,\n",
    " 1.233147740753136,\n",
    " -0.15995450634858102,\n",
    " 0.23606130384329554,\n",
    " 0.21430096140577606,\n",
    " -0.33774795427785287,\n",
    " -0.38467100186390435,\n",
    " 0.7664052353729661,\n",
    " 0.29006585025406784],1), calculate_cagr(res[1],1)"
   ]
  },
  {
   "cell_type": "code",
   "execution_count": null,
   "metadata": {},
   "outputs": [],
   "source": []
  }
 ],
 "metadata": {
  "kernelspec": {
   "display_name": "base",
   "language": "python",
   "name": "python3"
  },
  "language_info": {
   "codemirror_mode": {
    "name": "ipython",
    "version": 3
   },
   "file_extension": ".py",
   "mimetype": "text/x-python",
   "name": "python",
   "nbconvert_exporter": "python",
   "pygments_lexer": "ipython3",
   "version": "3.9.13"
  },
  "orig_nbformat": 4,
  "vscode": {
   "interpreter": {
    "hash": "40d3a090f54c6569ab1632332b64b2c03c39dcf918b08424e98f38b5ae0af88f"
   }
  }
 },
 "nbformat": 4,
 "nbformat_minor": 2
}
